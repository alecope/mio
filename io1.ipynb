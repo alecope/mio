{
  "nbformat": 4,
  "nbformat_minor": 0,
  "metadata": {
    "colab": {
      "provenance": [],
      "authorship_tag": "ABX9TyMWP9NX67UTL3Z1ym2fa4Bv",
      "include_colab_link": true
    },
    "kernelspec": {
      "name": "python3",
      "display_name": "Python 3"
    },
    "language_info": {
      "name": "python"
    }
  },
  "cells": [
    {
      "cell_type": "markdown",
      "metadata": {
        "id": "view-in-github",
        "colab_type": "text"
      },
      "source": [
        "<a href=\"https://colab.research.google.com/github/alecope/mio/blob/main/io1.ipynb\" target=\"_parent\"><img src=\"https://colab.research.google.com/assets/colab-badge.svg\" alt=\"Open In Colab\"/></a>"
      ]
    },
    {
      "cell_type": "markdown",
      "source": [
        "#primer ejercicio"
      ],
      "metadata": {
        "id": "j6cN3RZU4yR5"
      }
    },
    {
      "cell_type": "code",
      "execution_count": 1,
      "metadata": {
        "colab": {
          "base_uri": "https://localhost:8080/"
        },
        "id": "Va2glaup4hH3",
        "outputId": "4e1685bf-88eb-4921-a8d5-e3fbcb4338b4"
      },
      "outputs": [
        {
          "output_type": "stream",
          "name": "stdout",
          "text": [
            "hola mundo\n"
          ]
        }
      ],
      "source": [
        "print(\"hola mundo\")"
      ]
    },
    {
      "cell_type": "markdown",
      "source": [
        "#segundo ejercicio\n"
      ],
      "metadata": {
        "id": "TYPJtNq042u4"
      }
    },
    {
      "cell_type": "code",
      "source": [],
      "metadata": {
        "id": "qBdWWl534xai"
      },
      "execution_count": null,
      "outputs": []
    }
  ]
}